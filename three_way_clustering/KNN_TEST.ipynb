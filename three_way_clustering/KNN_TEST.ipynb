{
 "cells": [
  {
   "cell_type": "code",
   "execution_count": 2,
   "id": "71371f53",
   "metadata": {},
   "outputs": [
    {
     "name": "stdout",
     "output_type": "stream",
     "text": [
      "Your input is:  [1.2 1. ]  and classified to class:  A\n",
      "Your input is:  [0.1 0.3]  and classified to class:  B\n"
     ]
    }
   ],
   "source": [
    "import KNN\n",
    "from numpy import *\n",
    "\n",
    "# 生成数量集和类别标签\n",
    "dataSet, labels = KNN.createDataSet()\n",
    "# 定义一个未知类别的数据\n",
    "testX = array([1.2, 1.0])\n",
    "k = 3\n",
    "# 调用分类函数对未知数据分类\n",
    "outputLabel = KNN.KNN_Classify(testX, dataSet, labels, k)\n",
    "print(\"Your input is: \", testX, \" and classified to class: \", outputLabel)\n",
    "\n",
    "testX = array([0.1, 0.3])\n",
    "outputLabel = KNN.KNN_Classify(testX, dataSet, labels, k)\n",
    "print(\"Your input is: \", testX, \" and classified to class: \", outputLabel)"
   ]
  }
 ],
 "metadata": {
  "kernelspec": {
   "display_name": "Python 3",
   "language": "python",
   "name": "python3"
  },
  "language_info": {
   "codemirror_mode": {
    "name": "ipython",
    "version": 3
   },
   "file_extension": ".py",
   "mimetype": "text/x-python",
   "name": "python",
   "nbconvert_exporter": "python",
   "pygments_lexer": "ipython3",
   "version": "3.8.8"
  }
 },
 "nbformat": 4,
 "nbformat_minor": 5
}
