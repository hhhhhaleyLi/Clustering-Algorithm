{
 "cells": [
  {
   "cell_type": "code",
   "execution_count": 4,
   "id": "7bc69bf5",
   "metadata": {},
   "outputs": [],
   "source": [
    "from numpy import *\n",
    "import operator\n",
    "\n",
    "# KNN算法\n",
    "# 对未知类别属性的数据集中的每个点(待测样本)依次执行一下操作:\n",
    "# · 计算已知类别数据集中的点与当前点之间的距离\n",
    "# · 按照距离递增次序排序\n",
    "# · 选取与当前点距离最小的k个点\n",
    "# · 确定前k个点所在类别的出现频率\n",
    "# · 返回前k个点出现频率最高的类别作为当前点的预测分类"
   ]
  },
  {
   "cell_type": "code",
   "execution_count": 5,
   "id": "29fce61b",
   "metadata": {},
   "outputs": [],
   "source": [
    "def createDataSet():\n",
    "    group = array([[1.0, 1.1], [1.0, 1.0], [0, 0], [0, 0.1]])\n",
    "    labels = ['A', 'A', 'B', 'B']\n",
    "    return group, labels\n",
    "\n",
    "def KNN_Classify(inX, dataset, labels, k):\n",
    "    datasetSize = dataset.shape[0]\n",
    "    diffMat = tile(inX, (datasetSize, 1)) - dataset\n",
    "    # 关于tile函数的用法\n",
    "    # >>> b = [1,3,5]\n",
    "    # >>> tile(b, (2, 3)]\n",
    "    # 输出: array([[1,3,5,1,3,5,1,3,5],\n",
    "    #             [1,3,5,1,3,5,1,3,5]])\n",
    "    sqDiffMat = diffMat ** 2  # 平方\n",
    "    sqDistances = sum(sqDiffMat, axis=1)\n",
    "    distances = sqDistances ** 0.5\n",
    "    sortedDistIndicies = argsort(distances)   # argsort()是Numpy模块中的函数，返回的是数组值从小到大的索引值\n",
    "    # example\n",
    "    # import numpy as np\n",
    "    # >>> x = np.array([3, 1, 2])\n",
    "    # >>> np.argsort(x)\n",
    "    # 输出: array([1, 2, 0])\n",
    "    classCount = {}   # 定义一个字典\n",
    "    # 选择k个最近邻\n",
    "    for i in range(k):\n",
    "        voteLabel = labels[sortedDistIndicies[i]]\n",
    "        # 计算k个最近邻中各类别出现的次数\n",
    "        classCount[voteLabel] = classCount.get(voteLabel, 0) + 1   # dict.get(key, default=None) 返回指定键的值，如果值不在字典中返回default值\n",
    "    \n",
    "    # 返回出现次数最多的类别标签\n",
    "    maxCount = 0\n",
    "    for key, value in classCount.items():\n",
    "        if value > maxCount:\n",
    "            maxCount = value\n",
    "            maxIndex =  key\n",
    "    \n",
    "    return maxIndex"
   ]
  },
  {
   "cell_type": "code",
   "execution_count": null,
   "id": "3e52ca47",
   "metadata": {},
   "outputs": [],
   "source": []
  }
 ],
 "metadata": {
  "kernelspec": {
   "display_name": "Python 3",
   "language": "python",
   "name": "python3"
  },
  "language_info": {
   "codemirror_mode": {
    "name": "ipython",
    "version": 3
   },
   "file_extension": ".py",
   "mimetype": "text/x-python",
   "name": "python",
   "nbconvert_exporter": "python",
   "pygments_lexer": "ipython3",
   "version": "3.8.8"
  }
 },
 "nbformat": 4,
 "nbformat_minor": 5
}
